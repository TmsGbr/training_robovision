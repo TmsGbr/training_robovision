{
 "cells": [
  {
   "cell_type": "code",
   "execution_count": 1,
   "id": "talented-optics",
   "metadata": {},
   "outputs": [],
   "source": [
    "from PIL import ImageGrab\n",
    "from PIL import Image\n",
    "import win32gui\n",
    "import ipywidgets as widgets\n",
    "import io\n",
    "from IPython.display import display, clear_output\n",
    "import os"
   ]
  },
  {
   "cell_type": "code",
   "execution_count": 2,
   "id": "motivated-patrol",
   "metadata": {},
   "outputs": [],
   "source": [
    "def image_to_byte_array(image:Image):\n",
    "  imgByteArr = io.BytesIO()\n",
    "  image.save(imgByteArr, format='PNG')\n",
    "  imgByteArr = imgByteArr.getvalue()\n",
    "  return imgByteArr"
   ]
  },
  {
   "cell_type": "code",
   "execution_count": 5,
   "id": "powerful-intranet",
   "metadata": {},
   "outputs": [
    {
     "data": {
      "application/vnd.jupyter.widget-view+json": {
       "model_id": "be8b0c9379134799bb993fab2af6c029",
       "version_major": 2,
       "version_minor": 0
      },
      "text/plain": [
       "VBox(children=(HBox(children=(Button(description='Capture Window', icon='camera', style=ButtonStyle()), IntTex…"
      ]
     },
     "metadata": {},
     "output_type": "display_data"
    }
   ],
   "source": [
    "cap_button = widgets.Button(description='Capture Window', icon='camera')\n",
    "id_widget = widgets.IntText(value=0, description='Next free ID (change if you are re-running this cell)')\n",
    "camera_widget = widgets.Image()\n",
    "\n",
    "h_box = widgets.HBox([cap_button, id_widget])\n",
    "v_box = widgets.VBox([h_box, camera_widget])\n",
    "\n",
    "if not os.path.exists('../images'):\n",
    "    os.makedirs('../images')\n",
    "\n",
    "def capture_and_save_window(_):\n",
    "    hwnd = win32gui.FindWindow(None, r'SimSpark')\n",
    "    dimensions = win32gui.GetWindowRect(hwnd)\n",
    "\n",
    "    # the dimensions have a boarder around the window, we subtract that\n",
    "    x1, y1, x2, y2 = dimensions\n",
    "\n",
    "    x1 += 8\n",
    "    y1 += 31\n",
    "    x2 -= 8\n",
    "    y2 -= 8\n",
    "\n",
    "    dimensions = (x1, y1, x2, y2)\n",
    "\n",
    "    # capture the screen \n",
    "    image = ImageGrab.grab(dimensions)\n",
    "    # convert image for preview\n",
    "    byte_image = image_to_byte_array(image)\n",
    "    \n",
    "    # display preview\n",
    "    camera_widget.width = (x2 - x1) / 2\n",
    "    camera_widget.height = (y2 - y1) / 2\n",
    "    camera_widget.value = byte_image\n",
    "    \n",
    "    # save image\n",
    "    image.save(f'../images/{id_widget.value}.jpg', 'JPEG')\n",
    "    id_widget.value += 1\n",
    "\n",
    "cap_button.on_click(capture_and_save_window)\n",
    "    \n",
    "display(v_box)"
   ]
  },
  {
   "cell_type": "code",
   "execution_count": null,
   "id": "organic-server",
   "metadata": {},
   "outputs": [],
   "source": []
  }
 ],
 "metadata": {
  "kernelspec": {
   "display_name": "Python 3",
   "language": "python",
   "name": "python3"
  },
  "language_info": {
   "codemirror_mode": {
    "name": "ipython",
    "version": 3
   },
   "file_extension": ".py",
   "mimetype": "text/x-python",
   "name": "python",
   "nbconvert_exporter": "python",
   "pygments_lexer": "ipython3",
   "version": "3.7.6"
  }
 },
 "nbformat": 4,
 "nbformat_minor": 5
}
